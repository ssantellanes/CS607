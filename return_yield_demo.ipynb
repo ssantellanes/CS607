{
 "cells": [
  {
   "cell_type": "code",
   "execution_count": 2,
   "metadata": {},
   "outputs": [],
   "source": [
    "import numpy as np\n",
    "import time"
   ]
  },
  {
   "cell_type": "code",
   "execution_count": 25,
   "metadata": {},
   "outputs": [],
   "source": [
    "orders=np.arange(1,100001,1)\n",
    "def return_stall(orders):\n",
    "    output=[]\n",
    "    for order in orders:\n",
    "        output.append(f\"{order} takoballs\")\n",
    "    return(output)\n",
    "def yield_stall(orders):\n",
    "    for order in orders:\n",
    "        yield(f\"{order} takoballs\")\n",
    "        "
   ]
  },
  {
   "cell_type": "code",
   "execution_count": 29,
   "metadata": {},
   "outputs": [
    {
     "name": "stdout",
     "output_type": "stream",
     "text": [
      " It takes return 0.0344 s to run 100000 orders\n"
     ]
    }
   ],
   "source": [
    "start=time.time()\n",
    "output=return_stall(orders)\n",
    "end=time.time()\n",
    "return_time=end-start\n",
    "print(f\" It takes return {round(return_time,5)} s to run {len(orders)} orders\")"
   ]
  },
  {
   "cell_type": "code",
   "execution_count": 30,
   "metadata": {},
   "outputs": [
    {
     "name": "stdout",
     "output_type": "stream",
     "text": [
      " It takes return 0.00155 s to run 100000 orders\n"
     ]
    }
   ],
   "source": [
    "start=time.time()\n",
    "output=yield_stall(orders)\n",
    "end=time.time()\n",
    "yield_time=end-start\n",
    "print(f\" It takes return {round(yield_time,5)} s to run {len(orders)} orders\")"
   ]
  },
  {
   "cell_type": "code",
   "execution_count": 31,
   "metadata": {},
   "outputs": [
    {
     "name": "stdout",
     "output_type": "stream",
     "text": [
      " Yield has a speed up factor of 22.2 over return\n"
     ]
    }
   ],
   "source": [
    "speed_up_factor=return_time/yield_time\n",
    "print(f\" Yield has a speed up factor of {round(speed_up_factor,2)} over return\")"
   ]
  },
  {
   "cell_type": "code",
   "execution_count": null,
   "metadata": {},
   "outputs": [],
   "source": []
  }
 ],
 "metadata": {
  "kernelspec": {
   "display_name": "mtspec",
   "language": "python",
   "name": "python3"
  },
  "language_info": {
   "codemirror_mode": {
    "name": "ipython",
    "version": 3
   },
   "file_extension": ".py",
   "mimetype": "text/x-python",
   "name": "python",
   "nbconvert_exporter": "python",
   "pygments_lexer": "ipython3",
   "version": "3.11.5"
  }
 },
 "nbformat": 4,
 "nbformat_minor": 2
}
