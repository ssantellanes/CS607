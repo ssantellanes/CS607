{
  "nbformat": 4,
  "nbformat_minor": 0,
  "metadata": {
    "colab": {
      "provenance": []
    },
    "kernelspec": {
      "name": "python3",
      "display_name": "Python 3"
    },
    "language_info": {
      "name": "python"
    }
  },
  "cells": [
    {
      "cell_type": "code",
      "execution_count": null,
      "metadata": {
        "colab": {
          "base_uri": "https://localhost:8080/"
        },
        "id": "zzwwTGtuLO3b",
        "outputId": "b1c85058-3292-4cba-b037-e825639f3fc6"
      },
      "outputs": [
        {
          "output_type": "stream",
          "name": "stdout",
          "text": [
            "<class 'list'>\n",
            "[1, 2, 3, 4]\n"
          ]
        }
      ],
      "source": [
        "L = [1, 2, 3]\n",
        "print(type(L))\n",
        "L.append(4)\n",
        "print(L)\n",
        "\n",
        "mystr = \"hi\""
      ]
    },
    {
      "cell_type": "code",
      "source": [
        "class Coordinate(object):\n",
        "  def __init__(self, x, y):\n",
        "    self.x = x\n",
        "    self.y = y\n",
        "\n",
        "  def distance(self, other):\n",
        "    x_diff_sq = (self.x - other.x)**2\n",
        "    y_diff_sq = (self.y - other.y)**2\n",
        "    return (x_diff_sq + y_diff_sq)**0.5\n",
        "\n",
        "  def __str__(self):\n",
        "    return \"(\" + str(self.x) + \",\" + str(self.y) +   \")\"\n",
        "\n",
        "\n",
        "c = Coordinate(3, 4)\n",
        "o = Coordinate(0, 0)\n",
        "print(c.distance(o))\n",
        "\n",
        "print(c)\n"
      ],
      "metadata": {
        "colab": {
          "base_uri": "https://localhost:8080/"
        },
        "id": "iDqgQc36Lc0r",
        "outputId": "bbfc126d-a950-4984-b5d4-c30d112b700f"
      },
      "execution_count": null,
      "outputs": [
        {
          "output_type": "stream",
          "name": "stdout",
          "text": [
            "5.0\n",
            "(3,4)\n"
          ]
        }
      ]
    },
    {
      "cell_type": "code",
      "source": [
        "class Fraction(object):\n",
        "  def __init__(self, num, den):\n",
        "    self.num = num\n",
        "    self.den = den\n",
        "\n",
        "  def __add__(self, other_fraction):\n",
        "    # code goes here\n",
        "\n",
        "    return Fraction()\n",
        "\n",
        "  def __str__():\n",
        "\n",
        "\n",
        "my_frac1 = Fraction(3, 4)\n",
        "my_frac2 = Fraction(1, 2)\n",
        "my_frac1 + my_frac2"
      ],
      "metadata": {
        "colab": {
          "base_uri": "https://localhost:8080/"
        },
        "id": "0r-XH0KmLg97",
        "outputId": "4c320a8c-c5b0-417a-e550-f2092e6e0bce"
      },
      "execution_count": null,
      "outputs": [
        {
          "output_type": "stream",
          "name": "stdout",
          "text": [
            "<__main__.Fraction object at 0x78a41ea6eaa0>\n"
          ]
        }
      ]
    },
    {
      "cell_type": "code",
      "source": [
        "class Animal(object):\n",
        "  def __init__(self, age, name = None):\n",
        "    self.age = age\n",
        "    self.name = name\n",
        "\n",
        "  def get_age(self):\n",
        "    return self.age\n",
        "  def get_name(self):\n",
        "    return self.name\n",
        "\n",
        "  def set_age(self, newage):\n",
        "    self.age = newage\n",
        "\n",
        "  def set_name(self, newname = \"\"):\n",
        "    self.name = newname\n",
        "\n",
        "\n",
        "\n",
        "myanimal = Animal(42)\n",
        "\n",
        "myanimal.age\n",
        "print(myanimal.name)\n",
        "myanimal.set_name(\"fluffy\")\n",
        "\n",
        "myanimal.get_name()"
      ],
      "metadata": {
        "colab": {
          "base_uri": "https://localhost:8080/",
          "height": 73
        },
        "id": "Zmi_WQFJM9wV",
        "outputId": "6269fea9-c8a9-4ad5-b450-0d6261a08c7e"
      },
      "execution_count": null,
      "outputs": [
        {
          "output_type": "stream",
          "name": "stdout",
          "text": [
            "None\n"
          ]
        },
        {
          "output_type": "execute_result",
          "data": {
            "text/plain": [
              "'fluffy'"
            ],
            "application/vnd.google.colaboratory.intrinsic+json": {
              "type": "string"
            }
          },
          "metadata": {},
          "execution_count": 26
        }
      ]
    },
    {
      "cell_type": "code",
      "source": [
        "class Cat(Animal):\n",
        "  def speak(self):\n",
        "    print(\"meow\")"
      ],
      "metadata": {
        "id": "Q5VwxHx3Pc4b"
      },
      "execution_count": null,
      "outputs": []
    },
    {
      "cell_type": "code",
      "source": [
        "mycat = Cat(12)\n",
        "\n",
        "mycat.get_age()"
      ],
      "metadata": {
        "colab": {
          "base_uri": "https://localhost:8080/"
        },
        "id": "DItBCz0gVdxr",
        "outputId": "21c10eff-55c0-4041-ca9c-b6a7d0983db6"
      },
      "execution_count": null,
      "outputs": [
        {
          "output_type": "execute_result",
          "data": {
            "text/plain": [
              "12"
            ]
          },
          "metadata": {},
          "execution_count": 29
        }
      ]
    },
    {
      "cell_type": "code",
      "source": [],
      "metadata": {
        "id": "Gv2vyKB-VnB1"
      },
      "execution_count": null,
      "outputs": []
    }
  ]
}