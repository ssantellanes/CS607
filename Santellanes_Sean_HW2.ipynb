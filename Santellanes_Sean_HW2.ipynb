{
 "cells": [
  {
   "cell_type": "code",
   "execution_count": 3,
   "metadata": {},
   "outputs": [],
   "source": [
    "import numpy as np\n",
    "import matplotlib.pyplot as plt\n",
    "def f(t):\n",
    "    \"\"\"\n",
    "    f(t): Takes an argument t, where t is some time variable\n",
    "    The forcing function of concern for the assignment. In this instance, it is f(t)=sin(t)\n",
    "    \"\"\"\n",
    "    f=np.sin(t)\n",
    "    return(f)\n",
    "\n",
    "def exact(t):\n",
    "    \"\"\"\n",
    "    exact(t): Takes an argument t, where t is some time variable.\n",
    "    Returns the exact solution to the approximated, numerical solution.\n",
    "    \"\"\"\n",
    "    u_e=np.exp(-t)*(0.5*np.sin(2*t)+np.cos(2*t))+(0.2)*np.sin(t)-(0.1)*np.cos(t)\n",
    "    return(u_e)\n",
    "\n",
    "def solver(f,I,V,c,w,dt,T):\n",
    "    \"\"\" \n",
    "    solver\n",
    "    f is forcing function\n",
    "    I is the initial displacement\n",
    "    V is the initial velocity\n",
    "    c is the damping coefficient\n",
    "    w is the angular frequency\n",
    "    dt is the sampling rate\n",
    "    T is the total length of time we wish to approximate over\n",
    "    returns u,t the numerical solution and the time range over which it is approximated.\n",
    "    \"\"\"\n",
    "    dt=float(dt)\n",
    "    Nt=int(round(T/dt))\n",
    "    u=np.zeros(Nt+1)\n",
    "    t=np.linspace(0,Nt*dt,Nt+1)\n",
    "    u[0]=I\n",
    "    alpha=(2-dt**2*w**2)/(1+(c/2)*dt)\n",
    "    beta=(dt**2)/(1+(c/2)*dt)\n",
    "    gamma=((c/2)*dt-1)/(1+(c/2)*dt)\n",
    "    u[1]=(alpha*u[0]-gamma*2*dt*V+beta*f(t[0]))/(1-gamma)\n",
    "    for j in range(1,Nt):\n",
    "        u[j+1]=((2-dt**2*w**2)*u[j]+((c/2)*dt-1)*u[j-1]+(dt**2)*f(t[j]))/(1+(c/2)*dt)\n",
    "    return(u,t)"
   ]
  },
  {
   "cell_type": "code",
   "execution_count": 10,
   "metadata": {},
   "outputs": [],
   "source": [
    "def convergence_rates(m,solver,num_periods=8):\n",
    "    from math import pi\n",
    "    I=9/10\n",
    "    V=1/5\n",
    "    c=2\n",
    "    w=np.sqrt(5)    \n",
    "    dt=0.5\n",
    "    T=20    \n",
    "    dt=0.5\n",
    "    dt_values=[]\n",
    "    E_values=[]\n",
    "    for i in range(m):\n",
    "        u, t=solver(f,I,V,c,w,dt,T)\n",
    "        u_e=exact(t)\n",
    "        E=np.sqrt(dt*np.sum((u_e-u)**2))\n",
    "        dt_values.append(dt)\n",
    "        E_values.append(E)\n",
    "        dt /= 2\n",
    "    r=[np.log(E_values[i-1]/E_values[i])/np.log(dt_values[i-1]/dt_values[i]) for i in range(1,m,1)]\n",
    "    return(r, E_values, dt_values)"
   ]
  },
  {
   "cell_type": "code",
   "execution_count": 11,
   "metadata": {},
   "outputs": [],
   "source": [
    "r,E_values,dt_values=convergence_rates(7,solver)"
   ]
  },
  {
   "cell_type": "code",
   "execution_count": 12,
   "metadata": {},
   "outputs": [
    {
     "name": "stdout",
     "output_type": "stream",
     "text": [
      "This are the r values: [2.1598011263188956, 2.0332081968178257, 2.007984978060593, 2.0019800466839026, 2.0004952425954734, 2.0001244376906775]\n",
      "\n",
      "These are the E values: [0.1981112853009525, 0.04433475286275465, 0.010831475887036944, 0.0026929229527755945, 0.0006723073871704755, 0.0001680191599453112, 4.200116707677403e-05]\n",
      "\n",
      "These are the dt_values: [0.5, 0.25, 0.125, 0.0625, 0.03125, 0.015625, 0.0078125]\n",
      "\n"
     ]
    }
   ],
   "source": [
    "print(f\"This are the r values: {r}\\n\")\n",
    "print(f\"These are the E values: {E_values}\\n\")\n",
    "print(f\"These are the dt_values: {dt_values}\\n\")"
   ]
  },
  {
   "cell_type": "code",
   "execution_count": null,
   "metadata": {},
   "outputs": [],
   "source": [
    "def wave_solver(I,V,f,c,L,dt,C,T):\n",
    "    Nt=int(round(T/dt))\n",
    "    t=np.linspace(0,Nt*dt,Nt+1)\n",
    "    dx=(dt*c)/float(C)\n",
    "    Nx=int(round(L/dx))\n",
    "    x=np.linspace(0,L,Nx+1)\n",
    "    C2=C**2\n",
    "    dx=x[1]-x[0]\n",
    "    dt=t[1]=t[0]\n",
    "    if f is None or f==0:\n",
    "        f=lambda x,t : 0\n",
    "    if V is None or V==0 :\n",
    "        V=lambda x : 0\n",
    "    u=np.zeros(Nx+1)\n",
    "    u_n=np.zeros(Nx+1)\n",
    "    u_nm1=np.zeros(Nx+1)\n",
    "    "
   ]
  }
 ],
 "metadata": {
  "kernelspec": {
   "display_name": "mtspec",
   "language": "python",
   "name": "python3"
  },
  "language_info": {
   "codemirror_mode": {
    "name": "ipython",
    "version": 3
   },
   "file_extension": ".py",
   "mimetype": "text/x-python",
   "name": "python",
   "nbconvert_exporter": "python",
   "pygments_lexer": "ipython3",
   "version": "3.11.5"
  }
 },
 "nbformat": 4,
 "nbformat_minor": 2
}
